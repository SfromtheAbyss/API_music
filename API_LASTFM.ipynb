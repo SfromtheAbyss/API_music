{
 "cells": [
  {
   "cell_type": "code",
   "execution_count": null,
   "id": "78ff9f26-8974-40b6-ba2f-c5ab50867f9e",
   "metadata": {},
   "outputs": [],
   "source": [
    "import requests\n",
    "import json\n",
    "import time\n",
    "import numpy as np\n",
    "import pandas as pd\n",
    "import matplotlib\n",
    "import matplotlib.pyplot as plt\n",
    "import seaborn as sns\n",
    "\n",
    "API_KEY = '1a9ea75b5f92dfda381d817fc00e5458' \n",
    "USER_AGENT = '808e0a8bbaf9d30bf181edb60c742824'  \n",
    "LIMIT = 20  ##Número de resultados a obtener\n",
    "\n",
    "headers = {\n",
    "    'user-agent': USER_AGENT\n",
    "}\n",
    "\n",
    "##sacar top artists\n",
    "def get_top_artists():\n",
    "    params = {\n",
    "        'method': 'chart.getTopArtists',\n",
    "        'api_key': API_KEY,\n",
    "        'format': 'json',\n",
    "        'limit': LIMIT\n",
    "    }\n",
    "    response = requests.get('https://ws.audioscrobbler.com/2.0/', headers=headers, params=params)\n",
    "    if response.status_code == 200:\n",
    "        data = response.json()\n",
    "        df = pd.json_normalize(data['artists']['artist'])\n",
    "    else:\n",
    "        print(f\"Error en la solicitud de top artistas globales: {response.status_code}\")\n",
    "    time.sleep(1)\n",
    "    return df\n",
    "\n",
    "##sacar top artistas por pais\n",
    "def get_top_artists_by_country(country):\n",
    "    params = {\n",
    "        'method': 'geo.getTopArtists',\n",
    "        'country': country,\n",
    "        'api_key': API_KEY,\n",
    "        'format': 'json',\n",
    "        'limit': LIMIT\n",
    "    }\n",
    "    response = requests.get('https://ws.audioscrobbler.com/2.0/', headers=headers, params=params)\n",
    "    if response.status_code == 200:\n",
    "        data = response.json()\n",
    "        df = pd.json_normalize(data['topartists']['artist'])\n",
    "    else:\n",
    "        print(f\"Error en la solicitud de top artistas por país: {response.status_code}\")\n",
    "    time.sleep(1)\n",
    "    return df\n",
    "\n",
    "##sacar top canciones por pais\n",
    "def get_top_tracks_by_country(country):\n",
    "    params = {\n",
    "        'method': 'geo.getTopTracks',\n",
    "        'country': country,\n",
    "        'api_key': API_KEY,\n",
    "        'format': 'json',\n",
    "        'limit': LIMIT\n",
    "    }\n",
    "    response = requests.get('https://ws.audioscrobbler.com/2.0/', headers=headers, params=params)\n",
    "    if response.status_code == 200:\n",
    "        data = response.json()\n",
    "        df = pd.json_normalize(data['tracks']['track'])\n",
    "    else:\n",
    "        print(f\"Error en la solicitud de top canciones por país: {response.status_code}\")\n",
    "    time.sleep(1)\n",
    "    return df\n",
    "\n",
    "\n",
    "##sacar top album de x artista\n",
    "def get_top_tracks_by_artist(artist):\n",
    "    \n",
    "    params = {\n",
    "        'method': 'artist.getTopTracks',\n",
    "        'artist': artist,\n",
    "        'api_key': API_KEY,\n",
    "        'format': 'json',\n",
    "        'limit': LIMIT\n",
    "    }\n",
    "    response = requests.get('https://ws.audioscrobbler.com/2.0/', headers=headers, params=params)\n",
    "    if response.status_code == 200:\n",
    "        data = response.json()\n",
    "        df = pd.json_normalize(data['toptracks']['track'])\n",
    "    else:\n",
    "        print(f\"Error en la solicitud de top álbumes del artista: {response.status_code}\")\n",
    "    time.sleep(1)\n",
    "    return df\n",
    "    \n",
    "##limpia y ordena dataframe\n",
    "def limpiar_y_ordenar(df, columnas_a_eliminar=None):\n",
    "    if columnas_a_eliminar:\n",
    "        df = df.drop(columns=columnas_a_eliminar)\n",
    "    if 'listeners' in df.columns:\n",
    "        df = df.sort_values(by='listeners', ascending=False)\n",
    "    df = df.reset_index(drop=True)\n",
    "    return df"
   ]
  },
  {
   "cell_type": "code",
   "execution_count": null,
   "id": "5a7ab3c8-b06a-4f84-b993-97ea4c9cb1e2",
   "metadata": {},
   "outputs": [],
   "source": [
    "df_top_artist = get_top_artists()\n",
    "df_top_artist"
   ]
  },
  {
   "cell_type": "code",
   "execution_count": null,
   "id": "9ded5660-e43a-4b4b-a906-b187f803b7ec",
   "metadata": {},
   "outputs": [],
   "source": [
    "df_top_artist_filtered = limpiar_y_ordenar(df_top_artist, [\"mbid\", \"url\", \"streamable\", \"image\"])\n",
    "df_top_artist_filtered"
   ]
  },
  {
   "cell_type": "code",
   "execution_count": null,
   "id": "4fe58942-473a-404c-be0e-92b4cf47da42",
   "metadata": {},
   "outputs": [],
   "source": [
    "df_top_artist_filtered.info()"
   ]
  },
  {
   "cell_type": "code",
   "execution_count": null,
   "id": "e351e3f6-67f2-4e91-b342-9033c01255b9",
   "metadata": {},
   "outputs": [],
   "source": [
    "df_top_artist_filtered[[\"playcount\", \"listeners\"]] = df_top_artist_filtered[[\"playcount\", \"listeners\"]].astype(float)\n",
    "df_top_artist_filtered.info()"
   ]
  },
  {
   "cell_type": "code",
   "execution_count": null,
   "id": "925766b8-e32a-4fc1-9e23-bfebd232ed3c",
   "metadata": {},
   "outputs": [],
   "source": [
    "media_playcount = df_top_artist_filtered[\"playcount\"].mean()\n",
    "media_playcount"
   ]
  },
  {
   "cell_type": "code",
   "execution_count": null,
   "id": "6b0145ae-6412-4c28-821e-ede9071f4589",
   "metadata": {},
   "outputs": [],
   "source": [
    "media_listeners = df_top_artist_filtered[\"listeners\"].mean()\n",
    "media_listeners"
   ]
  },
  {
   "cell_type": "code",
   "execution_count": null,
   "id": "160b9fde-bfe0-442c-85ad-4c517a582f33",
   "metadata": {},
   "outputs": [],
   "source": [
    "mediana_playcount = df_top_artist_filtered[\"playcount\"].median()\n",
    "mediana_playcount"
   ]
  },
  {
   "cell_type": "code",
   "execution_count": null,
   "id": "5eb3992b-8f7b-4904-9827-88314f7870dd",
   "metadata": {},
   "outputs": [],
   "source": [
    "mediana_listeners = df_top_artist_filtered[\"listeners\"].median()\n",
    "mediana_listeners"
   ]
  },
  {
   "cell_type": "code",
   "execution_count": null,
   "id": "741cf867-9cc3-4eb8-b2b5-4a74a34b16ba",
   "metadata": {},
   "outputs": [],
   "source": [
    "sns.barplot(x = \"name\", y = \"playcount\", data = df_top_artist_filtered)\n",
    "plt.xticks(rotation=90)\n",
    "plt.axhline(mediana_playcount, color='red', linestyle='--', label=f'Mediana: {mediana_playcount}')\n",
    "plt.axhline(media_playcount, color='green', linestyle='--', label=f'Media: {media_playcount}')\n",
    "plt.legend()\n",
    "plt.show()"
   ]
  },
  {
   "cell_type": "code",
   "execution_count": null,
   "id": "91b9552b-efbf-405d-b4a3-3c836a6057df",
   "metadata": {},
   "outputs": [],
   "source": [
    "sns.barplot(x = \"name\", y = \"listeners\", data = df_top_artist_filtered)\n",
    "plt.xticks(rotation=90)\n",
    "plt.axhline(mediana_listeners, color='red', linestyle='--', label=f'Mediana: {mediana_listeners}')\n",
    "plt.axhline(media_listeners, color='green', linestyle='--', label=f'Media: {media_listeners}')\n",
    "plt.legend()\n",
    "plt.show()"
   ]
  },
  {
   "cell_type": "code",
   "execution_count": null,
   "id": "b88b6bc5-9da6-4f28-8df1-7bdfd7fadfe2",
   "metadata": {},
   "outputs": [],
   "source": [
    "sns.barplot(x = \"listeners\", y = \"playcount\", data = df_top_artist_filtered)\n",
    "plt.xticks(rotation=90)\n",
    "plt.show()"
   ]
  },
  {
   "cell_type": "code",
   "execution_count": null,
   "id": "f9482cfb-a53d-493d-b36c-a2580d78d790",
   "metadata": {},
   "outputs": [],
   "source": [
    "import scipy\n",
    "from scipy import stats\n",
    "\n",
    "listeners= df_top_artist_filtered[\"listeners\"]\n",
    "playcount= df_top_artist_filtered[\"playcount\"]\n",
    "stats.pearsonr(listeners, playcount)[0]"
   ]
  },
  {
   "cell_type": "code",
   "execution_count": null,
   "id": "0fd52327-e9f2-453e-8f6c-f0ccecf232cf",
   "metadata": {},
   "outputs": [],
   "source": [
    "sns.set(style='whitegrid')\n",
    "sns.lineplot(data=df_top_artist_filtered, x='listeners', y='playcount', marker='o')\n",
    " \n",
    "plt.ylabel('Listeners')\n",
    "plt.xlabel('Playcount')\n",
    "plt.tight_layout()\n",
    "plt.show()\n",
    "#El número de oyentes de los artistas no influye directamente en el número de reproducciones."
   ]
  },
  {
   "cell_type": "code",
   "execution_count": null,
   "id": "b19368fb-0ed6-499e-92d3-99f78dd9253f",
   "metadata": {},
   "outputs": [],
   "source": [
    "# df_log = df_top_artist_filtered[[\"listeners\", \"playcount\"]].apply(lambda x: np.log(x + 1))\n",
    "# df_log"
   ]
  },
  {
   "cell_type": "code",
   "execution_count": null,
   "id": "122176a3-9b92-46c2-b877-11e7a0601129",
   "metadata": {},
   "outputs": [],
   "source": [
    "get_top_artists_by_country(\"France\")"
   ]
  },
  {
   "cell_type": "code",
   "execution_count": null,
   "id": "82de9b9d-3943-41b0-9f56-0d9429134d28",
   "metadata": {},
   "outputs": [],
   "source": [
    "get_top_tracks_by_country(\"United States\")"
   ]
  },
  {
   "cell_type": "code",
   "execution_count": null,
   "id": "efa1b289-1282-4172-9103-a224c4c32a22",
   "metadata": {},
   "outputs": [],
   "source": [
    "get_top_albums_by_artist(\"Lana del Rey\")"
   ]
  },
  {
   "cell_type": "code",
   "execution_count": null,
   "id": "afd985dd-83a4-4a2d-ab15-b9b07dbc1ead",
   "metadata": {},
   "outputs": [],
   "source": []
  }
 ],
 "metadata": {
  "kernelspec": {
   "display_name": "Python 3 (ipykernel)",
   "language": "python",
   "name": "python3"
  },
  "language_info": {
   "codemirror_mode": {
    "name": "ipython",
    "version": 3
   },
   "file_extension": ".py",
   "mimetype": "text/x-python",
   "name": "python",
   "nbconvert_exporter": "python",
   "pygments_lexer": "ipython3",
   "version": "3.12.7"
  }
 },
 "nbformat": 4,
 "nbformat_minor": 5
}
