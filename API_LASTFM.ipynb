{
 "cells": [
  {
   "cell_type": "code",
   "execution_count": null,
   "id": "78ff9f26-8974-40b6-ba2f-c5ab50867f9e",
   "metadata": {},
   "outputs": [],
   "source": [
    "import requests\n",
    "import json\n",
    "import time\n",
    "import numpy as np\n",
    "import pandas as pd\n",
    "import matplotlib\n",
    "import matplotlib.pyplot as plt\n",
    "import seaborn as sns\n",
    "import scipy\n",
    "from scipy import stats\n",
    "\n",
    "API_KEY = '1a9ea75b5f92dfda381d817fc00e5458' \n",
    "USER_AGENT = '808e0a8bbaf9d30bf181edb60c742824'  \n",
    "LIMIT = 20  ##Número de resultados a obtener\n",
    "\n",
    "headers = {\n",
    "    'user-agent': USER_AGENT\n",
    "}\n",
    "\n",
    "##sacar top artists\n",
    "def get_top_artists():\n",
    "    params = {\n",
    "        'method': 'chart.getTopArtists',\n",
    "        'api_key': API_KEY,\n",
    "        'format': 'json',\n",
    "        'limit': LIMIT\n",
    "    }\n",
    "    response = requests.get('https://ws.audioscrobbler.com/2.0/', headers=headers, params=params)\n",
    "    if response.status_code == 200:\n",
    "        data = response.json()\n",
    "        df = pd.json_normalize(data['artists']['artist'])\n",
    "    else:\n",
    "        print(f\"Error en la solicitud de top artistas globales: {response.status_code}\")\n",
    "    time.sleep(1)\n",
    "    return df\n",
    "\n",
    "##sacar top artistas por pais\n",
    "def get_top_artists_by_country(country):\n",
    "    params = {\n",
    "        'method': 'geo.getTopArtists',\n",
    "        'country': country,\n",
    "        'api_key': API_KEY,\n",
    "        'format': 'json',\n",
    "        'limit': LIMIT\n",
    "    }\n",
    "    response = requests.get('https://ws.audioscrobbler.com/2.0/', headers=headers, params=params)\n",
    "    if response.status_code == 200:\n",
    "        data = response.json()\n",
    "        df = pd.json_normalize(data['topartists']['artist'])\n",
    "    else:\n",
    "        print(f\"Error en la solicitud de top artistas por país: {response.status_code}\")\n",
    "    time.sleep(1)\n",
    "    return df\n",
    "\n",
    "##sacar top canciones por pais\n",
    "def get_top_tracks_by_country(country):\n",
    "    params = {\n",
    "        'method': 'geo.getTopTracks',\n",
    "        'country': country,\n",
    "        'api_key': API_KEY,\n",
    "        'format': 'json',\n",
    "        'limit': LIMIT\n",
    "    }\n",
    "    response = requests.get('https://ws.audioscrobbler.com/2.0/', headers=headers, params=params)\n",
    "    if response.status_code == 200:\n",
    "        data = response.json()\n",
    "        df = pd.json_normalize(data['tracks']['track'])\n",
    "    else:\n",
    "        print(f\"Error en la solicitud de top canciones por país: {response.status_code}\")\n",
    "    time.sleep(1)\n",
    "    return df\n",
    "\n",
    "\n",
    "##sacar top album de x artista\n",
    "def get_top_tracks_by_artist(artist):\n",
    "    \n",
    "    params = {\n",
    "        'method': 'artist.getTopTracks',\n",
    "        'artist': artist,\n",
    "        'api_key': API_KEY,\n",
    "        'format': 'json',\n",
    "        'limit': LIMIT\n",
    "    }\n",
    "    response = requests.get('https://ws.audioscrobbler.com/2.0/', headers=headers, params=params)\n",
    "    if response.status_code == 200:\n",
    "        data = response.json()\n",
    "        df = pd.json_normalize(data['toptracks']['track'])\n",
    "    else:\n",
    "        print(f\"Error en la solicitud de top álbumes del artista: {response.status_code}\")\n",
    "    time.sleep(1)\n",
    "    return df\n",
    "    \n",
    "##limpia y ordena dataframe\n",
    "def limpiar_y_ordenar(df, columnas_a_eliminar=None):\n",
    "    if columnas_a_eliminar:\n",
    "        df = df.drop(columns=columnas_a_eliminar)\n",
    "    if 'listeners' in df.columns:\n",
    "        df = df.sort_values(by='listeners', ascending=False)\n",
    "    df = df.reset_index(drop=True)\n",
    "    return df"
   ]
  },
  {
   "cell_type": "code",
   "execution_count": null,
   "id": "5a7ab3c8-b06a-4f84-b993-97ea4c9cb1e2",
   "metadata": {},
   "outputs": [],
   "source": [
    "df_top_artist = get_top_artists()\n",
    "df_top_artist"
   ]
  },
  {
   "cell_type": "code",
   "execution_count": null,
   "id": "9ded5660-e43a-4b4b-a906-b187f803b7ec",
   "metadata": {},
   "outputs": [],
   "source": [
    "df_top_artist_filtered = limpiar_y_ordenar(df_top_artist, [\"mbid\", \"url\", \"streamable\", \"image\"])\n",
    "df_top_artist_filtered"
   ]
  },
  {
   "cell_type": "code",
   "execution_count": null,
   "id": "4fe58942-473a-404c-be0e-92b4cf47da42",
   "metadata": {},
   "outputs": [],
   "source": [
    "df_top_artist_filtered.info()"
   ]
  },
  {
   "cell_type": "code",
   "execution_count": null,
   "id": "e351e3f6-67f2-4e91-b342-9033c01255b9",
   "metadata": {},
   "outputs": [],
   "source": [
    "df_top_artist_filtered[[\"playcount\", \"listeners\"]] = df_top_artist_filtered[[\"playcount\", \"listeners\"]].astype(float)\n",
    "df_top_artist_filtered.info()"
   ]
  },
  {
   "cell_type": "code",
   "execution_count": null,
   "id": "925766b8-e32a-4fc1-9e23-bfebd232ed3c",
   "metadata": {},
   "outputs": [],
   "source": [
    "media_playcount = df_top_artist_filtered[\"playcount\"].mean()\n",
    "media_playcount"
   ]
  },
  {
   "cell_type": "code",
   "execution_count": null,
   "id": "6b0145ae-6412-4c28-821e-ede9071f4589",
   "metadata": {},
   "outputs": [],
   "source": [
    "media_listeners = df_top_artist_filtered[\"listeners\"].mean()\n",
    "media_listeners"
   ]
  },
  {
   "cell_type": "code",
   "execution_count": null,
   "id": "160b9fde-bfe0-442c-85ad-4c517a582f33",
   "metadata": {},
   "outputs": [],
   "source": [
    "mediana_playcount = df_top_artist_filtered[\"playcount\"].median()\n",
    "mediana_playcount"
   ]
  },
  {
   "cell_type": "code",
   "execution_count": null,
   "id": "5eb3992b-8f7b-4904-9827-88314f7870dd",
   "metadata": {},
   "outputs": [],
   "source": [
    "mediana_listeners = df_top_artist_filtered[\"listeners\"].median()\n",
    "mediana_listeners"
   ]
  },
  {
   "cell_type": "code",
   "execution_count": null,
   "id": "741cf867-9cc3-4eb8-b2b5-4a74a34b16ba",
   "metadata": {},
   "outputs": [],
   "source": [
    "sns.barplot(x = \"name\", y = \"playcount\", data = df_top_artist_filtered)\n",
    "plt.xticks(rotation=90)\n",
    "plt.axhline(mediana_playcount, color='red', linestyle='--', label=f'Mediana: {mediana_playcount}')\n",
    "plt.axhline(media_playcount, color='green', linestyle='--', label=f'Media: {media_playcount}')\n",
    "plt.legend()\n",
    "plt.show()"
   ]
  },
  {
   "cell_type": "code",
   "execution_count": null,
   "id": "91b9552b-efbf-405d-b4a3-3c836a6057df",
   "metadata": {},
   "outputs": [],
   "source": [
    "sns.barplot(x = \"name\", y = \"listeners\", data = df_top_artist_filtered)\n",
    "plt.xticks(rotation=90)\n",
    "plt.axhline(mediana_listeners, color='red', linestyle='--', label=f'Mediana: {mediana_listeners}')\n",
    "plt.axhline(media_listeners, color='green', linestyle='--', label=f'Media: {media_listeners}')\n",
    "plt.legend()\n",
    "plt.show()"
   ]
  },
  {
   "cell_type": "code",
   "execution_count": null,
   "id": "b88b6bc5-9da6-4f28-8df1-7bdfd7fadfe2",
   "metadata": {},
   "outputs": [],
   "source": [
    "sns.barplot(x = \"listeners\", y = \"playcount\", data = df_top_artist_filtered)\n",
    "plt.xticks(rotation=90)\n",
    "plt.show()"
   ]
  },
  {
   "cell_type": "code",
   "execution_count": null,
   "id": "f9482cfb-a53d-493d-b36c-a2580d78d790",
   "metadata": {},
   "outputs": [],
   "source": [
    "listeners= df_top_artist_filtered[\"listeners\"]\n",
    "playcount= df_top_artist_filtered[\"playcount\"]\n",
    "stats.pearsonr(listeners, playcount)[0]"
   ]
  },
  {
   "cell_type": "code",
   "execution_count": null,
   "id": "0fd52327-e9f2-453e-8f6c-f0ccecf232cf",
   "metadata": {},
   "outputs": [],
   "source": [
    "sns.set(style='whitegrid')\n",
    "sns.lineplot(data=df_top_artist_filtered, x='listeners', y='playcount', marker='o')\n",
    " \n",
    "plt.ylabel('Listeners')\n",
    "plt.xlabel('Playcount')\n",
    "plt.tight_layout()\n",
    "plt.show()\n",
    "#El número de oyentes de los artistas no influye directamente en el número de reproducciones."
   ]
  },
  {
   "cell_type": "code",
   "execution_count": null,
   "id": "b19368fb-0ed6-499e-92d3-99f78dd9253f",
   "metadata": {},
   "outputs": [],
   "source": [
    "#TOP 20 CANCIONES POR PAIS\n",
    "df_tracks_españa = get_top_tracks_by_country(\"Spain\")\n",
    "df_tracks_france = get_top_tracks_by_country(\"France\")\n",
    "df_tracks_germany = get_top_tracks_by_country(\"Germany\")\n",
    "df_tracks_uk = get_top_tracks_by_country(\"United Kingdom\")\n",
    "df_tracks_usa= get_top_tracks_by_country(\"United States\")\n",
    "df_tracks_rusia = get_top_tracks_by_country(\"Russian Federation\")\n",
    "\n",
    "df_tracks_españa"
   ]
  },
  {
   "cell_type": "code",
   "execution_count": null,
   "id": "efa1b289-1282-4172-9103-a224c4c32a22",
   "metadata": {},
   "outputs": [],
   "source": [
    "df_tracks_españa_filtered = limpiar_y_ordenar(df_tracks_españa,[\"mbid\", \"url\", \"image\", \"streamable.#text\", \"streamable.fulltrack\", \"artist.mbid\",\t\"artist.url\", \"@attr.rank\"])\n",
    "df_tracks_france_filtered = limpiar_y_ordenar(df_tracks_france,[\"mbid\", \"url\", \"image\", \"streamable.#text\", \"streamable.fulltrack\", \"artist.mbid\",\t\"artist.url\", \"@attr.rank\"])\n",
    "df_tracks_germany_filtered = limpiar_y_ordenar(df_tracks_germany,[\"mbid\", \"url\", \"image\", \"streamable.#text\", \"streamable.fulltrack\", \"artist.mbid\",\t\"artist.url\", \"@attr.rank\"])\n",
    "df_tracks_uk_filtered = limpiar_y_ordenar(df_tracks_uk,[\"mbid\", \"url\", \"image\", \"streamable.#text\", \"streamable.fulltrack\", \"artist.mbid\",\t\"artist.url\", \"@attr.rank\"])\n",
    "df_tracks_usa_filtered = limpiar_y_ordenar(df_tracks_usa,[\"mbid\", \"url\", \"image\", \"streamable.#text\", \"streamable.fulltrack\", \"artist.mbid\",\t\"artist.url\", \"@attr.rank\"])\n",
    "df_tracks_rusia_filtered = limpiar_y_ordenar(df_tracks_rusia,[\"mbid\", \"url\", \"image\", \"streamable.#text\", \"streamable.fulltrack\", \"artist.mbid\",\t\"artist.url\", \"@attr.rank\"])    \n",
    "\n",
    "df_tracks_españa_filtered"
   ]
  },
  {
   "cell_type": "code",
   "execution_count": null,
   "id": "afd985dd-83a4-4a2d-ab15-b9b07dbc1ead",
   "metadata": {},
   "outputs": [],
   "source": [
    "df_tracks_españa_filtered[[\"duration\", \"listeners\"]] = df_tracks_españa_filtered[[\"duration\", \"listeners\"]].astype(float)\n",
    "df_tracks_france_filtered[[\"duration\", \"listeners\"]] = df_tracks_france_filtered[[\"duration\", \"listeners\"]].astype(float)\n",
    "df_tracks_germany_filtered[[\"duration\", \"listeners\"]] = df_tracks_germany_filtered[[\"duration\", \"listeners\"]].astype(float)\n",
    "df_tracks_uk_filtered[[\"duration\", \"listeners\"]] = df_tracks_uk_filtered[[\"duration\", \"listeners\"]].astype(float)\n",
    "df_tracks_usa_filtered[[\"duration\", \"listeners\"]] = df_tracks_usa_filtered[[\"duration\", \"listeners\"]].astype(float)\n",
    "df_tracks_rusia_filtered[[\"duration\", \"listeners\"]] = df_tracks_rusia_filtered[[\"duration\", \"listeners\"]].astype(float)\n",
    "\n",
    "df_tracks_españa_filtered.info()"
   ]
  },
  {
   "cell_type": "code",
   "execution_count": null,
   "id": "909ac0fc-3526-4c38-a68c-cdee06e61302",
   "metadata": {},
   "outputs": [],
   "source": [
    "df_tracks_españa_filtered['pais'] = 'España'\n",
    "df_tracks_france_filtered['pais'] = \"France\"\n",
    "df_tracks_germany_filtered['pais'] = \"Germany\"\n",
    "df_tracks_uk_filtered['pais'] = \"United Kingdom\"\n",
    "df_tracks_usa_filtered['pais'] = \"United States\"\n",
    "df_tracks_rusia_filtered ['pais'] = \"Russian Federation\"\n",
    "\n",
    "df_tracks_españa_filtered"
   ]
  },
  {
   "cell_type": "code",
   "execution_count": null,
   "id": "3667c851-5bf7-4711-9c68-306ccb8e9b63",
   "metadata": {},
   "outputs": [],
   "source": [
    "df_tracks_concat = pd.concat([df_tracks_españa_filtered, df_tracks_france_filtered, df_tracks_germany_filtered, df_tracks_uk_filtered, df_tracks_usa_filtered, df_tracks_rusia_filtered ], axis = 0)\n",
    "df_tracks_concat"
   ]
  },
  {
   "cell_type": "code",
   "execution_count": null,
   "id": "dd274e60-4f79-455b-b55e-c51d9e3f0ebe",
   "metadata": {},
   "outputs": [],
   "source": [
    "df_tracks_concat_sorted = df_tracks_concat.sort_values(\"listeners\", ascending = False)\n",
    "df_tracks_concat_sorted"
   ]
  },
  {
   "cell_type": "code",
   "execution_count": null,
   "id": "2e811431-98ad-4c01-b6f7-5da3df856e5e",
   "metadata": {},
   "outputs": [],
   "source": [
    "media_españa = df_tracks_españa_filtered[\"listeners\"].mean()\n",
    "media_france= df_tracks_france_filtered[\"listeners\"].mean()\n",
    "media_germany= df_tracks_germany_filtered[\"listeners\"].mean()\n",
    "media_uk= df_tracks_uk_filtered[\"listeners\"].mean()\n",
    "media_usa= df_tracks_usa_filtered[\"listeners\"].mean()\n",
    "media_rusia= df_tracks_rusia_filtered[\"listeners\"].mean() \n",
    "\n",
    "print(f\"La media de oyentes en España es {media_españa}\")\n",
    "print(f\"La media de oyentes en France es {media_france}\")\n",
    "print(f\"La media de oyentes en Germany es {media_germany}\")\n",
    "print(f\"La media de oyentes en United Kingdom es {media_uk}\")\n",
    "print(f\"La media de oyentes en United States es {media_usa}\")\n",
    "print(f\"La media de oyentes en Rusia es {media_rusia}\")"
   ]
  },
  {
   "cell_type": "code",
   "execution_count": null,
   "id": "1b522c51-2320-4912-a23b-3a4d3a62ad49",
   "metadata": {},
   "outputs": [],
   "source": [
    "mediana_españa = df_tracks_españa_filtered[\"listeners\"].median()\n",
    "mediana_france= df_tracks_france_filtered[\"listeners\"].median()\n",
    "mediana_germany= df_tracks_germany_filtered[\"listeners\"].median()\n",
    "mediana_uk= df_tracks_uk_filtered[\"listeners\"].median()\n",
    "mediana_usa= df_tracks_usa_filtered[\"listeners\"].median()\n",
    "mediana_rusia= df_tracks_rusia_filtered[\"listeners\"].median() \n",
    "\n",
    "print(f\"La mediana de oyentes en España es {mediana_españa}\")\n",
    "print(f\"La mediana de oyentes en France es {mediana_france}\")\n",
    "print(f\"La mediana de oyentes en Germany es {mediana_germany}\")\n",
    "print(f\"La mediana de oyentes en United Kingdom es {mediana_uk}\")\n",
    "print(f\"La mediana de oyentes en United States es {mediana_usa}\")\n",
    "print(f\"La mediana de oyentes en Rusia es {mediana_rusia}\")"
   ]
  },
  {
   "cell_type": "code",
   "execution_count": null,
   "id": "a2764a59-72cb-4994-880f-d998b379e738",
   "metadata": {},
   "outputs": [],
   "source": [
    "canciones_por_artista = df_tracks_concat_sorted['artist.name'].value_counts()\n",
    "canciones_por_artista "
   ]
  },
  {
   "cell_type": "code",
   "execution_count": null,
   "id": "6affa835-5fa4-418f-93a2-a1b9056db1bd",
   "metadata": {},
   "outputs": [],
   "source": [
    "sns.barplot(x = canciones_por_artista.index, y = canciones_por_artista.values)\n",
    "plt.xticks(rotation=90, fontsize=8)\n",
    "plt.show()"
   ]
  },
  {
   "cell_type": "code",
   "execution_count": null,
   "id": "927b7140-67a1-4487-888b-39cd0cadadcc",
   "metadata": {},
   "outputs": [],
   "source": [
    "pais = df_tracks_concat_sorted['pais'].unique()\n",
    " \n",
    "fig, axes = plt.subplots(nrows=2, ncols=3, figsize=(18, 10))\n",
    "axes = axes.flatten()\n",
    " \n",
    "for i, pais in enumerate(pais):\n",
    "    datos_pais = df_tracks_concat_sorted[df_tracks_concat_sorted['pais'] == pais]\n",
    "    sns.barplot(x='listeners', y='name', data=datos_pais, ax=axes[i])\n",
    "    axes[i].set_title(f'Oyentes de {pais}')\n",
    "    axes[i].set_xlabel('Oyentes')\n",
    "    axes[i].set_ylabel('Canción')\n",
    " \n",
    "plt.tight_layout()\n",
    "plt.show()"
   ]
  },
  {
   "cell_type": "code",
   "execution_count": null,
   "id": "fdfbd4f3-02b4-4307-a237-3605ef2e45ed",
   "metadata": {},
   "outputs": [],
   "source": [
    "df_duration_media= df_tracks_concat_sorted[\"duration\"].map(lambda x : x if x > 0 else df_tracks_concat_sorted[\"duration\"].mean())\n",
    "\n",
    "sns.kdeplot(x = df_duration_media,\n",
    "            y = df_tracks_concat_sorted[\"listeners\"])\n",
    "\n",
    "plt.xticks(rotation=90)\n",
    "plt.show()"
   ]
  },
  {
   "cell_type": "code",
   "execution_count": null,
   "id": "0be2b44a-c273-44ea-ac26-f7bda858ca64",
   "metadata": {},
   "outputs": [],
   "source": [
    "artista_pais_esp = df_tracks_españa_filtered['artist.name'].value_counts()\n",
    "artista_pais_fr = df_tracks_france_filtered['artist.name'].value_counts()\n",
    "artista_pais_ger =df_tracks_germany_filtered['artist.name'].value_counts()\n",
    "artista_pais_uk=df_tracks_uk_filtered['artist.name'].value_counts()\n",
    "artista_pais_usa=df_tracks_usa_filtered['artist.name'].value_counts()\n",
    "artista_pais_rusia=df_tracks_rusia_filtered['artist.name'].value_counts()\n",
    "\n",
    "print(f\"España \\n {artista_pais_esp}\")\n",
    "print(f\"Francia \\n {artista_pais_fr}\")\n",
    "print(f\"Germany \\n {artista_pais_ger}\")\n",
    "print(f\"United Kingdom \\n {artista_pais_uk}\")\n",
    "print(f\"United States \\n {artista_pais_usa}\")\n",
    "print(f\"Rusia \\n {artista_pais_rusia}\")"
   ]
  },
  {
   "cell_type": "code",
   "execution_count": null,
   "id": "e229708b-c150-4843-a741-8832cc153a32",
   "metadata": {},
   "outputs": [],
   "source": [
    "sns.histplot(df_tracks_concat_sorted[\"listeners\"], color = \"green\", kde = True)\n",
    "plt.show()\n",
    "\n",
    "stats.skew(df_tracks_concat_sorted[\"listeners\"])\n",
    "#Asimetría negativa (cola a la izquierda)"
   ]
  },
  {
   "cell_type": "code",
   "execution_count": null,
   "id": "75979216-9dee-4404-ac62-4b93b45dd793",
   "metadata": {},
   "outputs": [],
   "source": [
    "##CANCIONES POR ARTISTA\n",
    "df_lana = get_top_tracks_by_artist(\"Lana del Rey\")\n",
    "df_ic3peak = get_top_tracks_by_artist(\"Ic3peak\")\n",
    "df_billie = get_top_tracks_by_artist(\"Billie Eilish\")\n",
    "df_sia = get_top_tracks_by_artist(\"Sia\")\n",
    "df_estopa = get_top_tracks_by_artist(\"Estopa\")\n",
    "df_badbunny = get_top_tracks_by_artist(\"Bad Bunny\")"
   ]
  },
  {
   "cell_type": "code",
   "execution_count": null,
   "id": "6c403db9-4d07-43b3-969a-3d72dc8829a1",
   "metadata": {},
   "outputs": [],
   "source": [
    "df_lana_filtered = limpiar_y_ordenar(df_lana,[\"url\",\"streamable\",\"image\",\"artist.url\", \"@attr.rank\",\"mbid\",\"artist.mbid\"])\n",
    "df_ic3peak_filtered = limpiar_y_ordenar(df_ic3peak,[\"url\",\"streamable\",\"image\",\"artist.url\", \"@attr.rank\",\"artist.mbid\"])\n",
    "df_billie_filtered = limpiar_y_ordenar(df_billie,[\"url\",\"streamable\",\"image\",\"artist.url\", \"@attr.rank\"])\n",
    "df_sia_filtered = limpiar_y_ordenar(df_sia,[\"url\",\"streamable\",\"image\",\"artist.url\", \"@attr.rank\",\"mbid\",\"artist.mbid\"])\n",
    "df_estopa_filtered = limpiar_y_ordenar(df_estopa,[\"url\",\"streamable\",\"image\",\"artist.url\", \"@attr.rank\",\"mbid\",\"artist.mbid\"])\n",
    "df_badbunny_filtered = limpiar_y_ordenar(df_badbunny,[\"url\",\"streamable\",\"image\",\"artist.url\", \"@attr.rank\"])"
   ]
  },
  {
   "cell_type": "code",
   "execution_count": null,
   "id": "994d0ac2-7dea-4df3-acb7-b5db0789a588",
   "metadata": {},
   "outputs": [],
   "source": [
    "df_lana_filtered[[\"playcount\", \"listeners\"]] = df_lana_filtered[[\"playcount\", \"listeners\"]].astype(float)\n",
    "df_ic3peak_filtered[[\"playcount\", \"listeners\"]] = df_ic3peak_filtered[[\"playcount\", \"listeners\"]].astype(float)\n",
    "df_billie_filtered[[\"playcount\", \"listeners\"]] = df_billie_filtered[[\"playcount\", \"listeners\"]].astype(float)\n",
    "df_sia_filtered[[\"playcount\", \"listeners\"]] = df_sia_filtered[[\"playcount\", \"listeners\"]].astype(float)\n",
    "df_estopa_filtered[[\"playcount\", \"listeners\"]] = df_estopa_filtered[[\"playcount\", \"listeners\"]].astype(float)\n",
    "df_badbunny_filtered[[\"playcount\", \"listeners\"]] = df_badbunny_filtered[[\"playcount\", \"listeners\"]].astype(float)"
   ]
  },
  {
   "cell_type": "code",
   "execution_count": null,
   "id": "af3f856c-b22b-4c73-b94b-cf555d0574ab",
   "metadata": {},
   "outputs": [],
   "source": [
    "df_concatenated = pd.concat([df_lana_filtered, df_ic3peak_filtered, df_billie_filtered, df_sia_filtered, df_estopa_filtered, df_badbunny_filtered], ignore_index=True)\n",
    "df_top_canciones = df_concatenated.sort_values(by=\"listeners\", ascending=False).reset_index(drop=True)"
   ]
  },
  {
   "cell_type": "code",
   "execution_count": null,
   "id": "98c8eadd-99aa-4fb3-8b25-73f735683031",
   "metadata": {},
   "outputs": [],
   "source": [
    "reproducciones_por_artista = df_top_canciones.groupby('artist.name')['playcount'].sum().sort_values(ascending=False)\n",
    "\n",
    "oyentes_por_artista = df_top_canciones.groupby('artist.name')['listeners'].sum().sort_values(ascending=False)"
   ]
  },
  {
   "cell_type": "code",
   "execution_count": null,
   "id": "d1e160d0-d21c-4cce-b7b6-1d965cf62ebb",
   "metadata": {},
   "outputs": [],
   "source": [
    "##Gráfico de barras para reproducciones\n",
    "sns.barplot(x=reproducciones_por_artista.values, y=reproducciones_por_artista.index)\n",
    "plt.title('Reproducciones por Artista')\n",
    "plt.xlabel('Reproducciones')\n",
    "plt.ylabel('Artista')\n",
    "plt.show()\n",
    "\n",
    "##Gráfico de barras para oyentes\n",
    "sns.barplot(x=oyentes_por_artista.values, y=oyentes_por_artista.index)\n",
    "plt.title('Oyentes por Artista')\n",
    "plt.xlabel('Oyentes')\n",
    "plt.ylabel('Artista')\n",
    "plt.show()"
   ]
  },
  {
   "cell_type": "code",
   "execution_count": null,
   "id": "23e39f38-6cd3-42a8-9968-747c709edca6",
   "metadata": {},
   "outputs": [],
   "source": [
    "top_canciones = df_top_canciones.sort_values(by='playcount', ascending=False).head(10)\n",
    "\n",
    "sns.barplot(x='playcount', y='name', data=top_canciones, hue='artist.name')\n",
    "plt.title('Top 10 Canciones por Reproducciones')\n",
    "plt.xlabel('Reproducciones')\n",
    "plt.ylabel('Canción')\n",
    "plt.legend(title='Artista')\n",
    "plt.show()\n"
   ]
  },
  {
   "cell_type": "code",
   "execution_count": null,
   "id": "29905fe0-1f0f-4695-b82c-dc11eba86ed7",
   "metadata": {},
   "outputs": [],
   "source": [
    "##correlacion de pearson\n",
    "listeners= df_top_canciones[\"listeners\"]\n",
    "playcount= df_top_canciones[\"playcount\"]\n",
    "stats.pearsonr(listeners, playcount)[0]"
   ]
  },
  {
   "cell_type": "code",
   "execution_count": null,
   "id": "3ea1683f-3abd-4d4b-8480-41921b462c26",
   "metadata": {},
   "outputs": [],
   "source": [
    "##relacion oyentes y reproducciones\n",
    "sns.scatterplot(data=df_top_canciones, x='listeners', y='playcount', hue='artist.name')\n",
    "plt.title('Oyentes vs Reproducciones por Canción')\n",
    "plt.xlabel('Oyentes')\n",
    "plt.ylabel('Reproducciones')\n",
    "plt.legend(title='Artista')\n",
    "plt.show()"
   ]
  },
  {
   "cell_type": "code",
   "execution_count": null,
   "id": "34863c89-4735-433e-8c16-d63449889d2d",
   "metadata": {},
   "outputs": [],
   "source": [
    "df_top_canciones['Reproducciones_por_Oyente'] = df_top_canciones['playcount'] / df_top_canciones['listeners']\n",
    "\n",
    "sns.scatterplot(data=df_top_canciones, x='Reproducciones_por_Oyente', y='playcount', hue='artist.name')\n",
    "plt.title('Reproducciones por Oyente vs Reproducciones Totales')\n",
    "plt.xlabel('Reproducciones por Oyente')\n",
    "plt.ylabel('Reproducciones Totales')\n",
    "plt.legend(title='Artista')\n",
    "plt.show()"
   ]
  },
  {
   "cell_type": "code",
   "execution_count": null,
   "id": "a676772e-956e-4564-bc03-bdc5216119b0",
   "metadata": {},
   "outputs": [],
   "source": [
    "mediana = df_top_canciones['Reproducciones_por_Oyente'].median()\n",
    "\n",
    "##calcular IQR\n",
    "Q1 = df_top_canciones['Reproducciones_por_Oyente'].quantile(0.25)\n",
    "Q3 = df_top_canciones['Reproducciones_por_Oyente'].quantile(0.75)\n",
    "IQR = Q3 - Q1\n",
    "\n",
    "# Definir los límites para los outliers\n",
    "limite_inferior = Q1 - 1.5 * IQR\n",
    "limite_superior = Q3 + 1.5 * IQR\n",
    "\n",
    "##columna outlier\n",
    "df_top_canciones['Es_Outlier'] = df_top_canciones['Reproducciones_por_Oyente'].apply(\n",
    "    lambda x: 'Outlier' if x < limite_inferior or x > limite_superior else 'Normal')\n",
    "\n",
    "sns.histplot(data=df_top_canciones, x='Reproducciones_por_Oyente', hue='Es_Outlier', bins=30, palette={'Normal': 'skyblue', 'Outlier': 'orange'}, multiple='stack')\n",
    "\n",
    "##mediana\n",
    "plt.axvline(mediana, color='red', linestyle='--', label=f'Mediana: {mediana:.2f}')\n",
    "\n",
    "# Personalizar el gráfico\n",
    "plt.title('Distribución de Reproducciones por Oyente con Outliers')\n",
    "plt.xlabel('Reproducciones por Oyente')\n",
    "plt.ylabel('Frecuencia')\n",
    "plt.legend()\n",
    "plt.show()"
   ]
  },
  {
   "cell_type": "code",
   "execution_count": null,
   "id": "9cec8df1-a3c7-4f28-85fd-5e51617dd796",
   "metadata": {},
   "outputs": [],
   "source": [
    "artistas = df_top_canciones['artist.name'].unique()\n",
    "\n",
    "fig, axes = plt.subplots(nrows=2, ncols=3, figsize=(18, 10))\n",
    "axes = axes.flatten()\n",
    "\n",
    "for i, artista in enumerate(artistas):\n",
    "    datos_artista = df_top_canciones[df_top_canciones['artist.name'] == artista]\n",
    "    sns.barplot(x='playcount', y='name', data=datos_artista, ax=axes[i])\n",
    "    axes[i].set_title(f'Reproducciones de {artista}')\n",
    "    axes[i].set_xlabel('Reproducciones')\n",
    "    axes[i].set_ylabel('Canción')\n",
    "\n",
    "plt.tight_layout()\n",
    "plt.show()"
   ]
  },
  {
   "cell_type": "code",
   "execution_count": null,
   "id": "cb8abe0d-70ba-4f0c-9d0c-b820ff993e40",
   "metadata": {},
   "outputs": [],
   "source": [
    "##Distribución por reproducciones\n",
    "sns.histplot(df_top_canciones['playcount'], bins=20, kde=True)\n",
    "plt.title('Distribución de Reproducciones')\n",
    "plt.xlabel('Reproducciones')\n",
    "plt.ylabel('Frecuencia')\n",
    "plt.show()\n",
    "\n",
    "##Distribución por oyentes\n",
    "sns.histplot(df_top_canciones['listeners'], bins=20, kde=True)\n",
    "plt.title('Distribución de Oyentes')\n",
    "plt.xlabel('Oyentes')\n",
    "plt.ylabel('Frecuencia')\n",
    "plt.show()"
   ]
  },
  {
   "cell_type": "code",
   "execution_count": null,
   "id": "ca8c1cf6-663b-498e-8112-8a5727a21e6a",
   "metadata": {},
   "outputs": [],
   "source": [
    "df_top_canciones['Reproducciones_Log'] = np.log1p(df_top_canciones['playcount'])\n",
    "df_top_canciones['Oyentes_Log'] = np.log1p(df_top_canciones['listeners'])\n",
    "\n",
    "##Distribución por reproducciones Log\n",
    "sns.histplot(df_top_canciones['Reproducciones_Log'], bins=20, kde=True)\n",
    "plt.title('Distribución de Reproducciones')\n",
    "plt.xlabel('Reproducciones')\n",
    "plt.ylabel('Frecuencia')\n",
    "plt.show()\n",
    "\n",
    "##Distribución por oyentes Log\n",
    "sns.histplot(df_top_canciones['Oyentes_Log'], bins=20, kde=True)\n",
    "plt.title('Distribución de Oyentes')\n",
    "plt.xlabel('Oyentes')\n",
    "plt.ylabel('Frecuencia')\n",
    "plt.show()"
   ]
  },
  {
   "cell_type": "code",
   "execution_count": null,
   "id": "198d07c7-b30f-44c7-909d-f51da4e14447",
   "metadata": {},
   "outputs": [],
   "source": []
  },
  {
   "cell_type": "code",
   "execution_count": null,
   "id": "15439f7b-fc61-4c7c-9f58-ec1d0f787139",
   "metadata": {},
   "outputs": [],
   "source": []
  }
 ],
 "metadata": {
  "kernelspec": {
   "display_name": "Python 3 (ipykernel)",
   "language": "python",
   "name": "python3"
  },
  "language_info": {
   "codemirror_mode": {
    "name": "ipython",
    "version": 3
   },
   "file_extension": ".py",
   "mimetype": "text/x-python",
   "name": "python",
   "nbconvert_exporter": "python",
   "pygments_lexer": "ipython3",
   "version": "3.12.7"
  }
 },
 "nbformat": 4,
 "nbformat_minor": 5
}
