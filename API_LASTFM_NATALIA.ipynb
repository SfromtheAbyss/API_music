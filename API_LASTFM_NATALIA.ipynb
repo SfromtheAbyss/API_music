{
 "cells": [
  {
   "cell_type": "code",
   "execution_count": null,
   "id": "78ff9f26-8974-40b6-ba2f-c5ab50867f9e",
   "metadata": {},
   "outputs": [],
   "source": [
    "import requests\n",
    "import json\n",
    "import time\n",
    "import numpy as np\n",
    "import pandas as pd\n",
    "import matplotlib\n",
    "import matplotlib.pyplot as plt\n",
    "import seaborn as sns\n",
    "from scipy import stats\n",
    "from scipy.stats import zscore\n",
    "\n",
    "API_KEY = '1a9ea75b5f92dfda381d817fc00e5458' \n",
    "USER_AGENT = '808e0a8bbaf9d30bf181edb60c742824'  \n",
    "LIMIT = 20  ##Número de resultados a obtener\n",
    "\n",
    "headers = {\n",
    "    'user-agent': USER_AGENT\n",
    "}\n",
    "\n",
    "##sacar top artists\n",
    "def get_top_artists():\n",
    "    params = {\n",
    "        'method': 'chart.getTopArtists',\n",
    "        'api_key': API_KEY,\n",
    "        'format': 'json',\n",
    "        'limit': LIMIT\n",
    "    }\n",
    "    response = requests.get('https://ws.audioscrobbler.com/2.0/', headers=headers, params=params)\n",
    "    if response.status_code == 200:\n",
    "        data = response.json()\n",
    "        df = pd.json_normalize(data['artists']['artist'])\n",
    "    else:\n",
    "        print(f\"Error en la solicitud de top artistas globales: {response.status_code}\")\n",
    "    time.sleep(1)\n",
    "    return df\n",
    "\n",
    "##sacar top artistas por pais\n",
    "def get_top_artists_by_country(country):\n",
    "    params = {\n",
    "        'method': 'geo.getTopArtists',\n",
    "        'country': country,\n",
    "        'api_key': API_KEY,\n",
    "        'format': 'json',\n",
    "        'limit': LIMIT\n",
    "    }\n",
    "    response = requests.get('https://ws.audioscrobbler.com/2.0/', headers=headers, params=params)\n",
    "    if response.status_code == 200:\n",
    "        data = response.json()\n",
    "        df = pd.json_normalize(data['topartists']['artist'])\n",
    "    else:\n",
    "        print(f\"Error en la solicitud de top artistas por país: {response.status_code}\")\n",
    "    time.sleep(1)\n",
    "    return df\n",
    "\n",
    "##sacar top canciones por pais\n",
    "def get_top_tracks_by_country(country):\n",
    "    params = {\n",
    "        'method': 'geo.getTopTracks',\n",
    "        'country': country,\n",
    "        'api_key': API_KEY,\n",
    "        'format': 'json',\n",
    "        'limit': LIMIT\n",
    "    }\n",
    "    response = requests.get('https://ws.audioscrobbler.com/2.0/', headers=headers, params=params)\n",
    "    if response.status_code == 200:\n",
    "        data = response.json()\n",
    "        df = pd.json_normalize(data['tracks']['track'])\n",
    "    else:\n",
    "        print(f\"Error en la solicitud de top canciones por país: {response.status_code}\")\n",
    "    time.sleep(1)\n",
    "    return df\n",
    "\n",
    "##sacar top album de x artista\n",
    "def get_top_albums_by_artist(artist):\n",
    "    params = {\n",
    "        'method': 'artist.getTopAlbums',\n",
    "        'artist': artist,\n",
    "        'api_key': API_KEY,\n",
    "        'format': 'json',\n",
    "        'limit': LIMIT\n",
    "    }\n",
    "    response = requests.get('https://ws.audioscrobbler.com/2.0/', headers=headers, params=params)\n",
    "    if response.status_code == 200:\n",
    "        data = response.json()\n",
    "        df = pd.json_normalize(data['topalbums']['album'])\n",
    "    else:\n",
    "        print(f\"Error en la solicitud de top álbumes del artista: {response.status_code}\")\n",
    "    time.sleep(1)\n",
    "    return df\n",
    "\n",
    "##limpia y ordena dataframe\n",
    "def limpiar_y_ordenar(df, columnas_a_eliminar=None):\n",
    "    if columnas_a_eliminar:\n",
    "        df = df.drop(columns=columnas_a_eliminar)\n",
    "    if 'listeners' in df.columns:\n",
    "        df = df.sort_values(by='listeners', ascending=False)\n",
    "    df = df.reset_index(drop=True)\n",
    "    return df"
   ]
  },
  {
   "cell_type": "code",
   "execution_count": null,
   "id": "a9534020-7378-469c-a1e0-e6199e5e7e39",
   "metadata": {
    "scrolled": true
   },
   "outputs": [],
   "source": [
    "df_artist_DE = get_top_artists_by_country(\"Germany\")\n",
    "df_artist_ES = get_top_artists_by_country(\"Spain\")\n",
    "df_artist_FR = get_top_artists_by_country(\"France\")\n",
    "df_artist_RUS = get_top_artists_by_country(\"Russian Federation\")\n",
    "df_artist_UK = get_top_artists_by_country(\"United Kingdom\")\n",
    "df_artist_US = get_top_artists_by_country(\"United States\")\n",
    "\n",
    "df_artist_DE"
   ]
  },
  {
   "cell_type": "code",
   "execution_count": null,
   "id": "7a405b20-dc97-4470-bbbc-e4cbb061b2fb",
   "metadata": {
    "scrolled": true
   },
   "outputs": [],
   "source": [
    "df_artist_DE_filtered = limpiar_y_ordenar(df_artist_DE, [\"mbid\", \"url\", \"streamable\", \"image\"])\n",
    "df_artist_ES_filtered = limpiar_y_ordenar(df_artist_ES, [\"mbid\", \"url\", \"streamable\", \"image\"])\n",
    "df_artist_FR_filtered = limpiar_y_ordenar(df_artist_FR, [\"mbid\", \"url\", \"streamable\", \"image\"])\n",
    "df_artist_RUS_filtered = limpiar_y_ordenar(df_artist_RUS, [\"mbid\", \"url\", \"streamable\", \"image\"])\n",
    "df_artist_UK_filtered = limpiar_y_ordenar(df_artist_UK, [\"mbid\", \"url\", \"streamable\", \"image\"])\n",
    "df_artist_US_filtered = limpiar_y_ordenar(df_artist_US, [\"mbid\", \"url\", \"streamable\", \"image\"])\n",
    "\n",
    "df_artist_DE_filtered"
   ]
  },
  {
   "cell_type": "code",
   "execution_count": null,
   "id": "954fef2b-b73b-4fcc-988b-2b76bb898490",
   "metadata": {
    "scrolled": true
   },
   "outputs": [],
   "source": [
    "df_artist_DE_filtered[\"Country\"] = \"Germany\"\n",
    "df_artist_ES_filtered[\"Country\"] = \"Spain\"\n",
    "df_artist_FR_filtered[\"Country\"] = \"France\"\n",
    "df_artist_RUS_filtered[\"Country\"] = \"Russia\"\n",
    "df_artist_UK_filtered[\"Country\"] = \"United Kingdom\"\n",
    "df_artist_US_filtered[\"Country\"] = \"United States\"\n",
    "\n",
    "df_artist_DE_filtered.info()\n",
    "df_artist_DE_filtered"
   ]
  },
  {
   "cell_type": "code",
   "execution_count": null,
   "id": "122176a3-9b92-46c2-b877-11e7a0601129",
   "metadata": {
    "scrolled": true
   },
   "outputs": [],
   "source": [
    "df_artist_DE_filtered[\"listeners\"] = df_artist_DE_filtered[\"listeners\"].astype(float)\n",
    "df_artist_ES_filtered[\"listeners\"] = df_artist_ES_filtered[\"listeners\"].astype(float)\n",
    "df_artist_FR_filtered[\"listeners\"] = df_artist_FR_filtered[\"listeners\"].astype(float)\n",
    "df_artist_RUS_filtered[\"listeners\"] = df_artist_RUS_filtered[\"listeners\"].astype(float)\n",
    "df_artist_UK_filtered[\"listeners\"] = df_artist_UK_filtered[\"listeners\"].astype(float)\n",
    "df_artist_US_filtered[\"listeners\"] = df_artist_US_filtered[\"listeners\"].astype(float)\n",
    "\n",
    "df_artist_DE_filtered.info()\n",
    "df_artist_DE_filtered"
   ]
  },
  {
   "cell_type": "code",
   "execution_count": null,
   "id": "eeae7338-1153-4efd-89a7-66e3050c3a1e",
   "metadata": {},
   "outputs": [],
   "source": [
    "media_listeners_DE = df_artist_DE_filtered[\"listeners\"].mean()\n",
    "media_listeners_ES = df_artist_ES_filtered[\"listeners\"].mean()\n",
    "media_listeners_FR = df_artist_FR_filtered[\"listeners\"].mean()\n",
    "media_listeners_RUS = df_artist_RUS_filtered[\"listeners\"].mean()\n",
    "media_listeners_UK = df_artist_UK_filtered[\"listeners\"].mean()\n",
    "media_listeners_US = df_artist_US_filtered[\"listeners\"].mean()\n",
    "\n",
    "print(f\"La media de oyentes en Alemania: {media_listeners_DE}\")\n",
    "print(f\"La media de oyentes en España: {media_listeners_ES}\")\n",
    "print(f\"La media de oyentes en Francia: {media_listeners_FR}\")\n",
    "print(f\"La media de oyentes en Rusia: {media_listeners_RUS}\")\n",
    "print(f\"La media de oyentes en Reino Unido: {media_listeners_UK}\")\n",
    "print(f\"La media de oyentes en Estados Unidos: {media_listeners_US}\")"
   ]
  },
  {
   "cell_type": "code",
   "execution_count": null,
   "id": "c60d3b3c-0b0f-4e58-a991-956f91d72b2b",
   "metadata": {},
   "outputs": [],
   "source": [
    "mediana_listeners_DE = df_artist_DE_filtered[\"listeners\"].median()\n",
    "mediana_listeners_ES = df_artist_ES_filtered[\"listeners\"].median()\n",
    "mediana_listeners_FR = df_artist_FR_filtered[\"listeners\"].median()\n",
    "mediana_listeners_RUS = df_artist_RUS_filtered[\"listeners\"].median()\n",
    "mediana_listeners_UK = df_artist_UK_filtered[\"listeners\"].median()\n",
    "mediana_listeners_US = df_artist_US_filtered[\"listeners\"].median()\n",
    "\n",
    "print(f\"La mediana de oyentes en Alemania: {mediana_listeners_DE}\")\n",
    "print(f\"La mediana de oyentes en España: {mediana_listeners_ES}\")\n",
    "print(f\"La mediana de oyentes en Francia: {mediana_listeners_FR}\")\n",
    "print(f\"La mediana de oyentes en Rusia: {mediana_listeners_RUS}\")\n",
    "print(f\"La mediana de oyentes en Reino Unido: {mediana_listeners_UK}\")\n",
    "print(f\"La mediana de oyentes en Estados Unidos: {mediana_listeners_US}\")"
   ]
  },
  {
   "cell_type": "code",
   "execution_count": null,
   "id": "afd985dd-83a4-4a2d-ab15-b9b07dbc1ead",
   "metadata": {
    "scrolled": true
   },
   "outputs": [],
   "source": [
    "df_artists_country_concat = pd.concat([df_artist_DE_filtered, df_artist_ES_filtered, df_artist_FR_filtered, df_artist_RUS_filtered, df_artist_UK_filtered, df_artist_US_filtered])\n",
    "\n",
    "df_artists_country_concat"
   ]
  },
  {
   "cell_type": "code",
   "execution_count": null,
   "id": "82f73bae-54fc-46ab-8e53-56f8ef898ada",
   "metadata": {},
   "outputs": [],
   "source": [
    "df_artists_country_concat_sorted = df_artists_country_concat.sort_values(\"listeners\", ascending = False)\n",
    "df_artists_country_concat_sorted"
   ]
  },
  {
   "cell_type": "code",
   "execution_count": null,
   "id": "f191faa1-5d1a-4510-a99f-f1f0afa02aee",
   "metadata": {},
   "outputs": [],
   "source": [
    "countries = df_artists_country_concat_sorted"
   ]
  },
  {
   "cell_type": "code",
   "execution_count": null,
   "id": "65e9a69d-8433-407a-9abb-6396a3f81d38",
   "metadata": {},
   "outputs": [],
   "source": [
    "total_artists = df_artists_country_concat_sorted[\"name\"].nunique()\n",
    "print(f\"En un total de {df_artists_country_concat_sorted[\"name\"].count()} artistas analizados en {df_artists_country_concat_sorted[\"Country\"].nunique()} paises, se encuentran {total_artists} artistas únicos.\")"
   ]
  },
  {
   "cell_type": "code",
   "execution_count": null,
   "id": "0178cc9e-5129-4d25-9870-d52971bd8ee2",
   "metadata": {
    "scrolled": true
   },
   "outputs": [],
   "source": [
    "countries_by_artist_count = df_artists_country_concat_sorted[\"name\"].value_counts()\n",
    "countries_by_artist_count"
   ]
  },
  {
   "cell_type": "code",
   "execution_count": null,
   "id": "70f04b60-593b-4cf9-b83c-2570c0af5e30",
   "metadata": {},
   "outputs": [],
   "source": [
    "plt.figure(figsize = (10, 6))\n",
    "sns.barplot(x = \"Country\", y = \"listeners\", hue = \"Country\", data = df_artists_country_concat_sorted, palette = \"Paired\", legend = False)\n",
    "\n",
    "plt.xlabel(\"Países\")\n",
    "plt.ylabel(\"Oyentes\")\n",
    "plt.title(\"Oyentes por País\")\n",
    "plt.grid(axis = \"y\")\n",
    "\n",
    "plt.show()"
   ]
  },
  {
   "cell_type": "code",
   "execution_count": null,
   "id": "e5116ec3-861e-464d-96ac-bafe967b3c6b",
   "metadata": {},
   "outputs": [],
   "source": [
    "df_artists_country_concat_sorted[\"Oyentes_Log\"] = np.log1p(df_artists_country_concat_sorted[\"listeners\"])\n",
    "\n",
    "plt.figure(figsize = (10, 6))\n",
    "sns.boxplot(x = \"Country\", y = \"Oyentes_Log\", hue = \"Country\", legend = False, data = df_artists_country_concat_sorted, palette = \"Paired\")\n",
    "\n",
    "plt.xlabel(\"Paises\")\n",
    "plt.ylabel(\"Log (Oyentes)\")\n",
    "plt.title(\"Oyentes por País Log\")\n",
    "plt.grid()\n",
    "\n",
    "plt.show()"
   ]
  },
  {
   "cell_type": "code",
   "execution_count": null,
   "id": "dde7de75-5201-4751-b921-11169e983c39",
   "metadata": {},
   "outputs": [],
   "source": [
    "media_oyentes = df_artists_country_concat_sorted[\"listeners\"].mean()\n",
    "mediana_oyentes = df_artists_country_concat_sorted[\"listeners\"].median()\n",
    "\n",
    "plt.figure(figsize =(10, 10))\n",
    "plt.barh(df_artists_country_concat_sorted[\"name\"], df_artists_country_concat_sorted[\"listeners\"], color=\"steelblue\")\n",
    "\n",
    "plt.axvline(x = media_oyentes, color = \"yellowgreen\", linestyle = \"--\", label = f\"Media: {int(media_oyentes)}\")\n",
    "plt.axvline(x = mediana_oyentes, color = \"coral\", linestyle = \"--\", label = f\"Mediana: {int(mediana_oyentes)}\")\n",
    "\n",
    "plt.xlabel(\"Oyentes\")\n",
    "plt.ylabel(\"Artista\")\n",
    "plt.title(\"Oyentes por Artista con Media y Mediana\")\n",
    "plt.legend()\n",
    "plt.grid()\n",
    "\n",
    "plt.show()"
   ]
  },
  {
   "cell_type": "code",
   "execution_count": null,
   "id": "329259f5-830a-4d36-92b8-32da2e4a0d13",
   "metadata": {},
   "outputs": [],
   "source": [
    "df_artists_country_concat_sorted[\"Z_Score\"] = zscore(df_artists_country_concat_sorted[\"listeners\"])\n",
    "\n",
    "plt.figure(figsize = (10, 10))\n",
    "sns.barplot(y = df_artists_country_concat_sorted[\"name\"], \n",
    "            x = df_artists_country_concat_sorted[\"Z_Score\"], \n",
    "            hue = df_artists_country_concat_sorted[\"name\"], \n",
    "            legend = False, palette = \"Spectral\")\n",
    "\n",
    "plt.axvline(x = 2.5, color = \"coral\", linestyle = \"--\", label = \"Outlier (>3)\")\n",
    "plt.axvline(x = -2.5, color = \"coral\", linestyle = \"--\", label = \"Outlier (<-3)\")\n",
    "plt.axvline(x = 0, color = \"yellowgreen\", linestyle = \"--\", label = \"Media (Z-score = 0)\")\n",
    "\n",
    "plt.xlabel(\"Oyentes\")\n",
    "plt.ylabel(\"Artistas\")\n",
    "plt.title(\"Oyentes por Artista con Z-score\")\n",
    "plt.grid(axis = \"x\")\n",
    "plt.legend()\n",
    "\n",
    "plt.show()"
   ]
  },
  {
   "cell_type": "code",
   "execution_count": null,
   "id": "963cf485-2b05-478f-8a55-42b4dde20c04",
   "metadata": {},
   "outputs": [],
   "source": [
    "countries = df_artists_country_concat_sorted[\"Country\"].unique()\n",
    "\n",
    "fig, axes = plt.subplots(nrows = 2, ncols = 3, figsize = (18, 10))\n",
    "axes = axes.flatten()\n",
    "\n",
    "for i, country in enumerate(countries):\n",
    "    df_country = df_artists_country_concat_sorted[df_artists_country_concat_sorted[\"Country\"] == country]\n",
    "    \n",
    "    sns.barplot(x = \"listeners\", y = \"name\", hue = \"Country\", data = df_country, ax = axes[i], palette = \"viridis\", legend = False)\n",
    "    axes[i].set_title(f\"Oyentes por artista en {country}\")\n",
    "    axes[i].set_xlabel(\"Oyentes\")\n",
    "    axes[i].set_ylabel(\"Artistas\")\n",
    "\n",
    "plt.tight_layout()\n",
    "plt.show()"
   ]
  },
  {
   "cell_type": "code",
   "execution_count": null,
   "id": "a422deba-a407-4b9c-b587-1099bbb46763",
   "metadata": {},
   "outputs": [],
   "source": [
    "df_total_listeners_by_artist = df_artists_country_concat_sorted.groupby(\"name\", as_index = False)[\"listeners\"].sum()\n",
    "\n",
    "plt.figure(figsize = (10, 10))\n",
    "sns.barplot(x = \"listeners\", y = \"name\", hue = \"name\", data = df_total_listeners_by_artist, palette = \"Spectral\", legend = False)\n",
    "\n",
    "plt.xlabel(\"Oyentes Totales\")\n",
    "plt.ylabel(\"Artistas\")\n",
    "plt.title(\"Oyentes Totales por Artista\")\n",
    "plt.grid(axis = \"x\")\n",
    "\n",
    "plt.show()"
   ]
  },
  {
   "cell_type": "code",
   "execution_count": null,
   "id": "4ede4b70-9840-4105-b915-acf87f241f3e",
   "metadata": {},
   "outputs": [],
   "source": [
    "df_total_listeners_by_artist = df_artists_country_concat_sorted.groupby([\"name\", \"Country\"], as_index = False)[\"listeners\"].sum()\n",
    "df_most_popular = df_total_listeners_by_artist[df_total_listeners_by_artist[\"listeners\"] > 5e6]\n",
    "\n",
    "plt.figure(figsize = (10, 8))\n",
    "sns.scatterplot(x = \"Country\", y = \"name\", size = \"listeners\", sizes = (100, 1000), alpha = 0.6, hue = \"Country\", palette = \"Paired\", data = df_most_popular)\n",
    "\n",
    "plt.xlabel(\"Paises\")\n",
    "plt.ylabel(\"Artistas\")\n",
    "plt.title(\"Artistas por país con mas de 5M de oyentes\")\n",
    "plt.grid()\n",
    "plt.legend(title = \"País\")\n",
    "\n",
    "plt.show()"
   ]
  },
  {
   "cell_type": "code",
   "execution_count": null,
   "id": "f879cec7-18ea-46d6-a312-197f9fce7bfa",
   "metadata": {},
   "outputs": [],
   "source": [
    "df_total_listeners_by_artist = df_artists_country_concat_sorted.groupby([\"name\", \"Country\"], as_index = False)[\"listeners\"].sum()\n",
    "df_most_popular = df_total_listeners_by_artist[df_total_listeners_by_artist[\"listeners\"] > 5e6]\n",
    "\n",
    "plt.figure(figsize = (10, 8))\n",
    "sns.violinplot(x = \"Country\", y = \"listeners\", hue = \"Country\", legend = False, data = df_most_popular, palette = \"Paired\")\n",
    "\n",
    "# Personalización del gráfico\n",
    "plt.xlabel(\"Países\")\n",
    "plt.ylabel(\"Oyentes\")\n",
    "plt.title(\"Distribución de oyentes por país para artistas con más de 5M de oyentes\")\n",
    "plt.grid()\n",
    "\n",
    "plt.show()"
   ]
  },
  {
   "cell_type": "code",
   "execution_count": null,
   "id": "75cef01e-4cb9-49f5-97af-976424ae37d9",
   "metadata": {},
   "outputs": [],
   "source": [
    "# df_total_listeners_by_artist = df_artists_country_concat_sorted.groupby([\"name\", \"Country\"], as_index = False)[\"listeners\"].sum()\n",
    "# df_most_popular = df_total_listeners_by_artist[df_total_listeners_by_artist[\"listeners\"] > 6e6]\n",
    "\n",
    "# plt.figure(figsize = (8, 6))\n",
    "# sns.scatterplot(x = \"listeners\", y = \"name\", hue = \"Country\", size = \"listeners\", sizes = (100, 1000), alpha = 0.7, palette = \"Paired\", data = df_most_popular)\n",
    "\n",
    "# plt.xlabel(\"Oyentes\")\n",
    "# plt.ylabel(\"Artistas\")\n",
    "# plt.title(\"Artistas más populares: Oyentes por País\")\n",
    "\n",
    "# plt.show()"
   ]
  },
  {
   "cell_type": "code",
   "execution_count": null,
   "id": "3d370400-b245-4124-acb3-e8a7d57aee2d",
   "metadata": {},
   "outputs": [],
   "source": [
    "# df_artists_country_concat_sorted[\"name_num\"] = pd.factorize(df_artists_country_concat_sorted[\"name\"])[0]\n",
    "\n",
    "# plt.figure(figsize = (8, 6))\n",
    "# sns.kdeplot(\n",
    "#     x = df_artists_country_concat_sorted[\"listeners\"], \n",
    "#     y = df_artists_country_concat_sorted[\"name_num\"], \n",
    "#     hue = df_artists_country_concat_sorted[\"Country\"], \n",
    "#     fill = True, alpha = 0.5, palette = \"Paired\", clip = ((0, None), (0, None))\n",
    "# )\n",
    "\n",
    "# plt.xlabel(\"Número de Oyentes\")\n",
    "# plt.ylabel(\"Artista (Codificado)\")\n",
    "# plt.title(\"Distribución KDE de Oyentes por Artista y País\")\n",
    "# plt.grid()\n",
    "\n",
    "# plt.show()"
   ]
  },
  {
   "cell_type": "code",
   "execution_count": null,
   "id": "00116242-d0c5-40e3-8335-a72788f02c6c",
   "metadata": {},
   "outputs": [],
   "source": []
  },
  {
   "cell_type": "code",
   "execution_count": null,
   "id": "0554f022-8ae2-446d-8aa7-3a6104d7a37b",
   "metadata": {},
   "outputs": [],
   "source": []
  }
 ],
 "metadata": {
  "kernelspec": {
   "display_name": "Python 3 (ipykernel)",
   "language": "python",
   "name": "python3"
  },
  "language_info": {
   "codemirror_mode": {
    "name": "ipython",
    "version": 3
   },
   "file_extension": ".py",
   "mimetype": "text/x-python",
   "name": "python",
   "nbconvert_exporter": "python",
   "pygments_lexer": "ipython3",
   "version": "3.12.7"
  }
 },
 "nbformat": 4,
 "nbformat_minor": 5
}
