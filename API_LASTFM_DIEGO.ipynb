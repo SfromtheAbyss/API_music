{
 "cells": [
  {
   "cell_type": "code",
   "execution_count": null,
   "id": "78ff9f26-8974-40b6-ba2f-c5ab50867f9e",
   "metadata": {},
   "outputs": [],
   "source": [
    "import requests\n",
    "import json\n",
    "import time\n",
    "import numpy as np\n",
    "import pandas as pd\n",
    "import matplotlib\n",
    "import matplotlib.pyplot as plt\n",
    "import seaborn as sns\n",
    "\n",
    "API_KEY = '1a9ea75b5f92dfda381d817fc00e5458' \n",
    "USER_AGENT = '808e0a8bbaf9d30bf181edb60c742824'  \n",
    "LIMIT = 20  ##Número de resultados a obtener\n",
    "\n",
    "headers = {\n",
    "    'user-agent': USER_AGENT\n",
    "}\n",
    "\n",
    "##sacar top artists\n",
    "def get_top_artists():\n",
    "    params = {\n",
    "        'method': 'chart.getTopArtists',\n",
    "        'api_key': API_KEY,\n",
    "        'format': 'json',\n",
    "        'limit': LIMIT\n",
    "    }\n",
    "    response = requests.get('https://ws.audioscrobbler.com/2.0/', headers=headers, params=params)\n",
    "    if response.status_code == 200:\n",
    "        data = response.json()\n",
    "        df = pd.json_normalize(data['artists']['artist'])\n",
    "    else:\n",
    "        print(f\"Error en la solicitud de top artistas globales: {response.status_code}\")\n",
    "    time.sleep(1)\n",
    "    return df\n",
    "\n",
    "##sacar top artistas por pais\n",
    "def get_top_artists_by_country(country):\n",
    "    params = {\n",
    "        'method': 'geo.getTopArtists',\n",
    "        'country': country,\n",
    "        'api_key': API_KEY,\n",
    "        'format': 'json',\n",
    "        'limit': LIMIT\n",
    "    }\n",
    "    response = requests.get('https://ws.audioscrobbler.com/2.0/', headers=headers, params=params)\n",
    "    if response.status_code == 200:\n",
    "        data = response.json()\n",
    "        df = pd.json_normalize(data['topartists']['artist'])\n",
    "    else:\n",
    "        print(f\"Error en la solicitud de top artistas por país: {response.status_code}\")\n",
    "    time.sleep(1)\n",
    "    return df\n",
    "\n",
    "##sacar top canciones por pais\n",
    "def get_top_tracks_by_country(country):\n",
    "    params = {\n",
    "        'method': 'geo.getTopTracks',\n",
    "        'country': country,\n",
    "        'api_key': API_KEY,\n",
    "        'format': 'json',\n",
    "        'limit': LIMIT\n",
    "    }\n",
    "    response = requests.get('https://ws.audioscrobbler.com/2.0/', headers=headers, params=params)\n",
    "    if response.status_code == 200:\n",
    "        data = response.json()\n",
    "        df = pd.json_normalize(data['tracks']['track'])\n",
    "    else:\n",
    "        print(f\"Error en la solicitud de top canciones por país: {response.status_code}\")\n",
    "    time.sleep(1)\n",
    "    return df\n",
    "\n",
    "##sacar top album de x artista\n",
    "def get_top_albums_by_artist(artist):\n",
    "    params = {\n",
    "        'method': 'artist.getTopAlbums',\n",
    "        'artist': artist,\n",
    "        'api_key': API_KEY,\n",
    "        'format': 'json',\n",
    "        'limit': LIMIT\n",
    "    }\n",
    "    response = requests.get('https://ws.audioscrobbler.com/2.0/', headers=headers, params=params)\n",
    "    if response.status_code == 200:\n",
    "        data = response.json()\n",
    "        df = pd.json_normalize(data['topalbums']['album'])\n",
    "    else:\n",
    "        print(f\"Error en la solicitud de top álbumes del artista: {response.status_code}\")\n",
    "    time.sleep(1)\n",
    "    return df\n",
    "\n",
    "##limpia y ordena dataframe\n",
    "def limpiar_y_ordenar(df, columnas_a_eliminar=None):\n",
    "    if columnas_a_eliminar:\n",
    "        df = df.drop(columns=columnas_a_eliminar)\n",
    "    if 'listeners' in df.columns:\n",
    "        df = df.sort_values(by='listeners', ascending=False)\n",
    "    df = df.reset_index(drop=True)\n",
    "    return df"
   ]
  },
  {
   "cell_type": "code",
   "execution_count": null,
   "id": "82de9b9d-3943-41b0-9f56-0d9429134d28",
   "metadata": {},
   "outputs": [],
   "source": [
    "df_tracks_españa = get_top_tracks_by_country(\"Spain\")\n",
    "df_tracks_france = get_top_tracks_by_country(\"France\")\n",
    "df_tracks_germany = get_top_tracks_by_country(\"Germany\")\n",
    "df_tracks_uk = get_top_tracks_by_country(\"United Kingdom\")\n",
    "df_tracks_usa= get_top_tracks_by_country(\"United States\")\n",
    "df_tracks_rusia = get_top_tracks_by_country(\"Russian Federation\")\n",
    "\n",
    "df_tracks_españa\n"
   ]
  },
  {
   "cell_type": "code",
   "execution_count": null,
   "id": "41a2fee0-cf69-45fb-8ffc-3f6db846215d",
   "metadata": {},
   "outputs": [],
   "source": [
    "df_tracks_españa_filtered = limpiar_y_ordenar(df_tracks_españa,[\"mbid\", \"url\", \"image\", \"streamable.#text\", \"streamable.fulltrack\", \"artist.mbid\",\t\"artist.url\", \"@attr.rank\"])\n",
    "df_tracks_france_filtered = limpiar_y_ordenar(df_tracks_france,[\"mbid\", \"url\", \"image\", \"streamable.#text\", \"streamable.fulltrack\", \"artist.mbid\",\t\"artist.url\", \"@attr.rank\"])\n",
    "df_tracks_germany_filtered = limpiar_y_ordenar(df_tracks_germany,[\"mbid\", \"url\", \"image\", \"streamable.#text\", \"streamable.fulltrack\", \"artist.mbid\",\t\"artist.url\", \"@attr.rank\"])\n",
    "df_tracks_uk_filtered = limpiar_y_ordenar(df_tracks_uk,[\"mbid\", \"url\", \"image\", \"streamable.#text\", \"streamable.fulltrack\", \"artist.mbid\",\t\"artist.url\", \"@attr.rank\"])\n",
    "df_tracks_usa_filtered = limpiar_y_ordenar(df_tracks_usa,[\"mbid\", \"url\", \"image\", \"streamable.#text\", \"streamable.fulltrack\", \"artist.mbid\",\t\"artist.url\", \"@attr.rank\"])\n",
    "df_tracks_rusia_filtered = limpiar_y_ordenar(df_tracks_rusia,[\"mbid\", \"url\", \"image\", \"streamable.#text\", \"streamable.fulltrack\", \"artist.mbid\",\t\"artist.url\", \"@attr.rank\"])    \n",
    "\n",
    "df_tracks_españa_filtered"
   ]
  },
  {
   "cell_type": "code",
   "execution_count": null,
   "id": "a0d85f69-787b-4ae6-9827-5c455fd1c6ff",
   "metadata": {},
   "outputs": [],
   "source": [
    "df_tracks_españa_filtered[[\"duration\", \"listeners\"]] = df_tracks_españa_filtered[[\"duration\", \"listeners\"]].astype(float)\n",
    "df_tracks_france_filtered[[\"duration\", \"listeners\"]] = df_tracks_france_filtered[[\"duration\", \"listeners\"]].astype(float)\n",
    "df_tracks_germany_filtered[[\"duration\", \"listeners\"]] = df_tracks_germany_filtered[[\"duration\", \"listeners\"]].astype(float)\n",
    "df_tracks_uk_filtered[[\"duration\", \"listeners\"]] = df_tracks_uk_filtered[[\"duration\", \"listeners\"]].astype(float)\n",
    "df_tracks_usa_filtered[[\"duration\", \"listeners\"]] = df_tracks_usa_filtered[[\"duration\", \"listeners\"]].astype(float)\n",
    "df_tracks_rusia_filtered[[\"duration\", \"listeners\"]] = df_tracks_rusia_filtered[[\"duration\", \"listeners\"]].astype(float)\n",
    "\n",
    "df_tracks_españa_filtered.info()"
   ]
  },
  {
   "cell_type": "code",
   "execution_count": null,
   "id": "cd6835d7-1e49-4118-858d-84787bf1a175",
   "metadata": {},
   "outputs": [],
   "source": [
    "df_tracks_españa_filtered['País'] = 'España'\n",
    "df_tracks_france_filtered['País'] = \"France\"\n",
    "df_tracks_germany_filtered['País'] = \"Germany\"\n",
    "df_tracks_uk_filtered['País'] = \"United Kingdom\"\n",
    "df_tracks_usa_filtered['País'] = \"United States\"\n",
    "df_tracks_rusia_filtered ['País'] = \"Russian Federation\"\n",
    "\n",
    "df_tracks_españa_filtered"
   ]
  },
  {
   "cell_type": "code",
   "execution_count": null,
   "id": "afd985dd-83a4-4a2d-ab15-b9b07dbc1ead",
   "metadata": {},
   "outputs": [],
   "source": [
    "df_tracks_concat = pd.concat([df_tracks_españa_filtered, df_tracks_france_filtered, df_tracks_germany_filtered, df_tracks_uk_filtered, df_tracks_usa_filtered, df_tracks_rusia_filtered ], axis = 0)\n",
    "df_tracks_concat"
   ]
  },
  {
   "cell_type": "code",
   "execution_count": null,
   "id": "4bf49678-65c7-4b09-b251-d7dd4744e253",
   "metadata": {},
   "outputs": [],
   "source": [
    "df_tracks_concat.info()"
   ]
  },
  {
   "cell_type": "code",
   "execution_count": null,
   "id": "46a7f761-bf39-410e-b382-3bccfbd334f0",
   "metadata": {},
   "outputs": [],
   "source": [
    "df_tracks_concat_sorted = df_tracks_concat.sort_values(\"listeners\", ascending = False)\n",
    "df_tracks_concat_sorted"
   ]
  },
  {
   "cell_type": "code",
   "execution_count": null,
   "id": "72aeacec-9883-4366-98cd-3801ceba3bd9",
   "metadata": {},
   "outputs": [],
   "source": [
    "media_españa = df_tracks_españa_filtered[\"listeners\"].mean()\n",
    "media_france= df_tracks_france_filtered[\"listeners\"].mean()\n",
    "media_germany= df_tracks_germany_filtered[\"listeners\"].mean()\n",
    "media_uk= df_tracks_uk_filtered[\"listeners\"].mean()\n",
    "media_usa= df_tracks_usa_filtered[\"listeners\"].mean()\n",
    "media_rusia= df_tracks_rusia_filtered[\"listeners\"].mean() \n",
    "\n",
    "print(f\"La media de oyentes en España es {media_españa}\")\n",
    "print(f\"La media de oyentes en France es {media_france}\")\n",
    "print(f\"La media de oyentes en Germany es {media_germany}\")\n",
    "print(f\"La media de oyentes en United Kingdom es {media_uk}\")\n",
    "print(f\"La media de oyentes en United States es {media_usa}\")\n",
    "print(f\"La media de oyentes en Rusia es {media_rusia}\")"
   ]
  },
  {
   "cell_type": "code",
   "execution_count": null,
   "id": "adc1ab5f-e146-4140-ba59-5a582a94d72b",
   "metadata": {},
   "outputs": [],
   "source": [
    "mediana_españa = df_tracks_españa_filtered[\"listeners\"].median()\n",
    "mediana_france= df_tracks_france_filtered[\"listeners\"].median()\n",
    "mediana_germany= df_tracks_germany_filtered[\"listeners\"].median()\n",
    "mediana_uk= df_tracks_uk_filtered[\"listeners\"].median()\n",
    "mediana_usa= df_tracks_usa_filtered[\"listeners\"].median()\n",
    "mediana_rusia= df_tracks_rusia_filtered[\"listeners\"].median() \n",
    "\n",
    "print(f\"La mediana de oyentes en España es {mediana_españa}\")\n",
    "print(f\"La mediana de oyentes en France es {mediana_france}\")\n",
    "print(f\"La mediana de oyentes en Germany es {mediana_germany}\")\n",
    "print(f\"La mediana de oyentes en United Kingdom es {mediana_uk}\")\n",
    "print(f\"La mediana de oyentes en United States es {mediana_usa}\")\n",
    "print(f\"La mediana de oyentes en Rusia es {mediana_rusia}\")"
   ]
  },
  {
   "cell_type": "code",
   "execution_count": null,
   "id": "f9b24d5f-c095-4ae0-879d-3f8f2abdb484",
   "metadata": {},
   "outputs": [],
   "source": [
    "canciones_por_artista = df_tracks_concat_sorted['artist.name'].value_counts()\n",
    "canciones_por_artista "
   ]
  },
  {
   "cell_type": "code",
   "execution_count": null,
   "id": "dd6e7024-14ea-4438-a6a8-bf3307701080",
   "metadata": {},
   "outputs": [],
   "source": [
    "sns.barplot(x = canciones_por_artista.index, y = canciones_por_artista.values)\n",
    "plt.xticks(rotation=90, fontsize=8)\n",
    "plt.show()"
   ]
  },
  {
   "cell_type": "code",
   "execution_count": null,
   "id": "1af25d99-5fb5-4bb9-9708-4cf8c8a8a818",
   "metadata": {},
   "outputs": [],
   "source": [
    "pais = df_tracks_concat_sorted['País'].unique()\n",
    " \n",
    "fig, axes = plt.subplots(nrows=2, ncols=3, figsize=(18, 10))\n",
    "axes = axes.flatten()\n",
    " \n",
    "for i, pais in enumerate(pais):\n",
    "    datos_pais = df_tracks_concat_sorted[df_tracks_concat_sorted['País'] == pais]\n",
    "    sns.barplot(x='listeners', y='name', data=datos_pais, ax=axes[i])\n",
    "    axes[i].set_title(f'Oyentes de {pais}')\n",
    "    axes[i].set_xlabel('Oyentes')\n",
    "    axes[i].set_ylabel('Canción')\n",
    " \n",
    "plt.tight_layout()\n",
    "plt.show()"
   ]
  },
  {
   "cell_type": "code",
   "execution_count": null,
   "id": "7ade46d5-3914-4295-8aef-5f7ad06bff7e",
   "metadata": {},
   "outputs": [],
   "source": [
    "sns.kdeplot(x = df_tracks_concat_sorted[\"duration\"],\n",
    "            y = df_tracks_concat_sorted[\"listeners\"])\n",
    "plt.xticks(rotation=90)\n",
    "plt.show()"
   ]
  },
  {
   "cell_type": "code",
   "execution_count": null,
   "id": "b4019166-61e7-40b5-885a-078d5299d35f",
   "metadata": {},
   "outputs": [],
   "source": []
  },
  {
   "cell_type": "code",
   "execution_count": null,
   "id": "575904d3-3845-4b0f-9c5f-1f4839bb1d33",
   "metadata": {},
   "outputs": [],
   "source": []
  }
 ],
 "metadata": {
  "kernelspec": {
   "display_name": "Python 3 (ipykernel)",
   "language": "python",
   "name": "python3"
  },
  "language_info": {
   "codemirror_mode": {
    "name": "ipython",
    "version": 3
   },
   "file_extension": ".py",
   "mimetype": "text/x-python",
   "name": "python",
   "nbconvert_exporter": "python",
   "pygments_lexer": "ipython3",
   "version": "3.12.7"
  }
 },
 "nbformat": 4,
 "nbformat_minor": 5
}
