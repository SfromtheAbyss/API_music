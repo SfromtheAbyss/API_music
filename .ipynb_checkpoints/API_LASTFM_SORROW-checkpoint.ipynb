{
 "cells": [
  {
   "cell_type": "code",
   "execution_count": null,
   "id": "78ff9f26-8974-40b6-ba2f-c5ab50867f9e",
   "metadata": {},
   "outputs": [],
   "source": [
    "import requests\n",
    "import json\n",
    "import time\n",
    "import numpy as np\n",
    "import pandas as pd\n",
    "import matplotlib\n",
    "import matplotlib.pyplot as plt\n",
    "import seaborn as sns\n",
    "\n",
    "API_KEY = '1a9ea75b5f92dfda381d817fc00e5458' \n",
    "USER_AGENT = '808e0a8bbaf9d30bf181edb60c742824'  \n",
    "LIMIT = 20  ##Número de resultados a obtener\n",
    "\n",
    "headers = {\n",
    "    'user-agent': USER_AGENT\n",
    "}\n",
    "\n",
    "##sacar top artists\n",
    "def get_top_artists():\n",
    "    params = {\n",
    "        'method': 'chart.getTopArtists',\n",
    "        'api_key': API_KEY,\n",
    "        'format': 'json',\n",
    "        'limit': LIMIT\n",
    "    }\n",
    "    response = requests.get('https://ws.audioscrobbler.com/2.0/', headers=headers, params=params)\n",
    "    if response.status_code == 200:\n",
    "        data = response.json()\n",
    "        df = pd.json_normalize(data['artists']['artist'])\n",
    "    else:\n",
    "        print(f\"Error en la solicitud de top artistas globales: {response.status_code}\")\n",
    "    time.sleep(1)\n",
    "    return df\n",
    "\n",
    "##sacar top artistas por pais\n",
    "def get_top_artists_by_country(country):\n",
    "    params = {\n",
    "        'method': 'geo.getTopArtists',\n",
    "        'country': country,\n",
    "        'api_key': API_KEY,\n",
    "        'format': 'json',\n",
    "        'limit': LIMIT\n",
    "    }\n",
    "    response = requests.get('https://ws.audioscrobbler.com/2.0/', headers=headers, params=params)\n",
    "    if response.status_code == 200:\n",
    "        data = response.json()\n",
    "        df = pd.json_normalize(data['topartists']['artist'])\n",
    "    else:\n",
    "        print(f\"Error en la solicitud de top artistas por país: {response.status_code}\")\n",
    "    time.sleep(1)\n",
    "    return df\n",
    "\n",
    "##sacar top canciones por pais\n",
    "def get_top_tracks_by_country(country):\n",
    "    params = {\n",
    "        'method': 'geo.getTopTracks',\n",
    "        'country': country,\n",
    "        'api_key': API_KEY,\n",
    "        'format': 'json',\n",
    "        'limit': LIMIT\n",
    "    }\n",
    "    response = requests.get('https://ws.audioscrobbler.com/2.0/', headers=headers, params=params)\n",
    "    if response.status_code == 200:\n",
    "        data = response.json()\n",
    "        df = pd.json_normalize(data['tracks']['track'])\n",
    "    else:\n",
    "        print(f\"Error en la solicitud de top canciones por país: {response.status_code}\")\n",
    "    time.sleep(1)\n",
    "    return df\n",
    "\n",
    "\n",
    "##sacar top album de x artista\n",
    "def get_top_tracks_by_artist(artist):\n",
    "    \n",
    "    params = {\n",
    "        'method': 'artist.getTopTracks',\n",
    "        'artist': artist,\n",
    "        'api_key': API_KEY,\n",
    "        'format': 'json',\n",
    "        'limit': LIMIT\n",
    "    }\n",
    "    response = requests.get('https://ws.audioscrobbler.com/2.0/', headers=headers, params=params)\n",
    "    if response.status_code == 200:\n",
    "        data = response.json()\n",
    "        df = pd.json_normalize(data['toptracks']['track'])\n",
    "    else:\n",
    "        print(f\"Error en la solicitud de top álbumes del artista: {response.status_code}\")\n",
    "    time.sleep(1)\n",
    "    return df\n",
    "    \n",
    "##limpia y ordena dataframe\n",
    "def limpiar_y_ordenar(df, columnas_a_eliminar=None):\n",
    "    if columnas_a_eliminar:\n",
    "        df = df.drop(columns=columnas_a_eliminar)\n",
    "    if 'listeners' in df.columns:\n",
    "        df = df.sort_values(by='listeners', ascending=False)\n",
    "    df = df.reset_index(drop=True)\n",
    "    return df"
   ]
  },
  {
   "cell_type": "code",
   "execution_count": null,
   "id": "5a7ab3c8-b06a-4f84-b993-97ea4c9cb1e2",
   "metadata": {},
   "outputs": [],
   "source": [
    "df_top_artist = get_top_artists()\n",
    "df_top_artist.drop([\"playcount\",\"mbid\",\"url\",\"streamable\",\"image\"], axis = 1).sort_values(\"listeners\", ascending=False).reset_index(drop=True)"
   ]
  },
  {
   "cell_type": "code",
   "execution_count": null,
   "id": "2eb22a77-6fd9-4153-b98c-011b4789c831",
   "metadata": {},
   "outputs": [],
   "source": [
    "limpiar_y_ordenar(df_top_artist, [\"playcount\",\"mbid\",\"url\",\"streamable\",\"image\"])"
   ]
  },
  {
   "cell_type": "code",
   "execution_count": null,
   "id": "122176a3-9b92-46c2-b877-11e7a0601129",
   "metadata": {},
   "outputs": [],
   "source": [
    "get_top_artists_by_country(\"France\")"
   ]
  },
  {
   "cell_type": "code",
   "execution_count": null,
   "id": "82de9b9d-3943-41b0-9f56-0d9429134d28",
   "metadata": {},
   "outputs": [],
   "source": [
    "get_top_tracks_by_country(\"Spain\")"
   ]
  },
  {
   "cell_type": "code",
   "execution_count": null,
   "id": "efa1b289-1282-4172-9103-a224c4c32a22",
   "metadata": {},
   "outputs": [],
   "source": [
    "get_top_tracks_by_artist(\"Lana del Rey\")"
   ]
  },
  {
   "cell_type": "code",
   "execution_count": null,
   "id": "afd985dd-83a4-4a2d-ab15-b9b07dbc1ead",
   "metadata": {},
   "outputs": [],
   "source": []
  }
 ],
 "metadata": {
  "kernelspec": {
   "display_name": "Python 3 (ipykernel)",
   "language": "python",
   "name": "python3"
  },
  "language_info": {
   "codemirror_mode": {
    "name": "ipython",
    "version": 3
   },
   "file_extension": ".py",
   "mimetype": "text/x-python",
   "name": "python",
   "nbconvert_exporter": "python",
   "pygments_lexer": "ipython3",
   "version": "3.12.7"
  }
 },
 "nbformat": 4,
 "nbformat_minor": 5
}
